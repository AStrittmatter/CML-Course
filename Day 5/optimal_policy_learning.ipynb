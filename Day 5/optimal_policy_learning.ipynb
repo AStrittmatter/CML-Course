{
 "cells": [
  {
   "cell_type": "markdown",
   "metadata": {},
   "source": [
    "# **Optimal Policy Learning**"
   ]
  },
  {
   "cell_type": "markdown",
   "metadata": {},
   "source": [
    "**Authors:** [Anthony Strittmatter](http://www.anthonystrittmatter.com)"
   ]
  },
  {
   "cell_type": "markdown",
   "metadata": {},
   "source": [
    "The charity Freedom from Hunger implemented a randomised trial to improve its direct marketing campaign. The solicitations letters vary by whether they include a discussion of their program's impact as measured by scientific research. We investigate how donors respond to information about a charity’s effectiveness. The base script, used for both treatment and control, included a standard qualitative story about an individual beneficiary. The allocation of the ''scientific mailer'' is randomised.\n",
    "\n",
    "\n",
    "Reference: [Karlan and Wood (2017)](https://www.sciencedirect.com/science/article/pii/S2214804316300490)\n",
    "\n",
    "Variable list:\n",
    "\n",
    "\n",
    "+ **char_giving**: Donation in response to mail\n",
    "+ **treat**: Mailer includes a discussion about the program impact as measured by scientific research\n",
    "\n",
    "\n",
    "+ **amount_pre**: Total amount given before mailer\n",
    "+ **amount_lastpre**: Amount of last gift before mailer\n",
    "+ **amount_maxpre**: Largest gift before mailer\n",
    "+ **H_number_yearbefore**: \\# of donations given in year prior to experiment\n",
    "+ **H_ngifts**: Number of donations over donor's giving history before mailer\n",
    "+ **H_littleask**: Received mailer with small ask string-small donor in past\n",
    "+ **H_bigask**: Received mailer with big ask string-big donor in past\n",
    "+ **H_nyears**: Number of years donor is in database before specified mailer\n",
    "+ **H_frequency**: Number of gifts per year (that donor was in donor database before specified mail)\n",
    "+ **H_medinc**: Median zip code income\n",
    "+ **H_medinc_mdum**: Dummy to reflect replacement to 0 when missing\n",
    "+ **H_Avg_years_ed**: Average years of education in census tract\n",
    "+ **H_Avg_years_ed_mdum**: Dummy to reflect replacement to 0 when missing\n",
    "\n",
    "We want is to find a targeting rule for the allocation of the ''scientific letter'' that increases donations."
   ]
  },
  {
   "cell_type": "markdown",
   "metadata": {},
   "source": [
    "## Load Packages"
   ]
  },
  {
   "cell_type": "code",
   "execution_count": 20,
   "metadata": {},
   "outputs": [
    {
     "name": "stdout",
     "output_type": "stream",
     "text": [
      "[1] \"All packages successfully installed and loaded.\"\n"
     ]
    }
   ],
   "source": [
    "########################  Load Packages  ########################\n",
    "\n",
    "# List of required packages\n",
    "pkgs <- c('fBasics', 'corrplot', 'rpart', 'rpart.plot', 'tidyverse', 'grf', 'caret')\n",
    "\n",
    "# Load packages\n",
    "for(pkg in pkgs){\n",
    "    library(pkg, character.only = TRUE)\n",
    "}\n",
    "options(warn=-1)     # supress warnings\n",
    "\n",
    "print('All packages successfully installed and loaded.')\n",
    "\n",
    "###################################################################"
   ]
  },
  {
   "cell_type": "markdown",
   "metadata": {},
   "source": [
    "## Load Data"
   ]
  },
  {
   "cell_type": "code",
   "execution_count": 2,
   "metadata": {},
   "outputs": [
    {
     "name": "stdout",
     "output_type": "stream",
     "text": [
      "[1] \"Data frame successfully loaded and sample selected.\"\n"
     ]
    }
   ],
   "source": [
    "########################  Load Data Frame  ########################\n",
    "#set.seed(100239) # set starting value for random number generator\n",
    "\n",
    "# Load data frame\n",
    "df <- read.csv(\"fundraising.csv\",header=TRUE, sep=\",\")\n",
    "\n",
    "# Outcome Variable\n",
    "outcome <- c(\"char_giving\")\n",
    "\n",
    "# Treatment Variables\n",
    "treatment <- c(\"treat\")\n",
    "\n",
    "# Covariates/Features\n",
    "covariates <- c(\"amount_pre\", \"amount_lastpre\", \"amount_maxpre\", \"H_number_yearbefore\", \"H_ngifts\",\n",
    "                \"H_littleask\", \"H_bigask\", \"H_nyears\", \"H_frequency\", \"H_medinc\", \"H_medinc_mdum\",\n",
    "                \"H_Avg_years_ed\", \"H_Avg_years_ed_mdum\")\n",
    "\n",
    "    \n",
    "all_variables <- c(outcome, treatment, covariates)\n",
    "\n",
    "print('Data frame successfully loaded and sample selected.')\n",
    "\n",
    "######################################################################"
   ]
  },
  {
   "cell_type": "markdown",
   "metadata": {},
   "source": [
    "## Desriptive Statistics"
   ]
  },
  {
   "cell_type": "markdown",
   "metadata": {},
   "source": [
    "#### Mean and Standard Deviations"
   ]
  },
  {
   "cell_type": "code",
   "execution_count": 3,
   "metadata": {},
   "outputs": [
    {
     "name": "stdout",
     "output_type": "stream",
     "text": [
      "                        Mean    Stdev Minimum   Maximum  nobs\n",
      "char_giving            14.94   267.05    0.00  30000.00 23122\n",
      "treat                   0.50     0.50    0.00      1.00 23122\n",
      "amount_pre            320.90  1137.65    1.00  62849.99 23122\n",
      "amount_lastpre         50.79   266.59    1.00  25707.36 23122\n",
      "amount_maxpre          71.27   353.36    1.00  25707.36 23122\n",
      "H_number_yearbefore     0.74     1.16    0.00     21.00 23122\n",
      "H_ngifts                6.97    11.58    1.00    261.00 23122\n",
      "H_littleask             0.88     0.33    0.00      1.00 23122\n",
      "H_bigask                0.12     0.33    0.00      1.00 23122\n",
      "H_nyears                7.35     7.08    1.00     54.00 23122\n",
      "H_frequency             0.86     0.83    0.08     10.50 23122\n",
      "H_medinc            52056.29 24061.48    0.00 200001.00 23122\n",
      "H_medinc_mdum           0.03     0.18    0.00      1.00 23122\n",
      "H_Avg_years_ed         14.00     2.98    0.00     21.05 23122\n",
      "H_Avg_years_ed_mdum     0.03     0.18    0.00      1.00 23122\n"
     ]
    }
   ],
   "source": [
    "########################  Table with Descriptive Statistics  ########################\n",
    "desc <- fBasics::basicStats(df) %>% t() %>% as.data.frame() %>% \n",
    "  select(Mean, Stdev, Minimum, Maximum, nobs)\n",
    "print(round(desc, digits=2))\n",
    "\n",
    "#####################################################################################"
   ]
  },
  {
   "cell_type": "markdown",
   "metadata": {},
   "source": [
    "The outcome variable *char_giving* is highly right-skewed. "
   ]
  },
  {
   "cell_type": "markdown",
   "metadata": {},
   "source": [
    "### Correlations"
   ]
  },
  {
   "cell_type": "code",
   "execution_count": 4,
   "metadata": {},
   "outputs": [
    {
     "data": {
      "image/png": "[encoded data removed]",
      "text/plain": [
       "Plot with title \"\""
      ]
     },
     "metadata": {},
     "output_type": "display_data"
    }
   ],
   "source": [
    "########################  Correlation Matrix  ########################\n",
    "\n",
    "corr = cor(df[,-c(1:2)])\n",
    "corrplot(corr, type = \"upper\", tl.col = \"black\")\n",
    "\n",
    "######################################################################"
   ]
  },
  {
   "cell_type": "markdown",
   "metadata": {},
   "source": [
    "The sum of past givings (*amount_pre*) is highly correleted with several other covariates."
   ]
  },
  {
   "cell_type": "markdown",
   "metadata": {},
   "source": [
    "# Prepare Data"
   ]
  },
  {
   "cell_type": "code",
   "execution_count": 5,
   "metadata": {},
   "outputs": [
    {
     "name": "stdout",
     "output_type": "stream",
     "text": [
      "[1] \"Samples are partitioned.\"\n",
      "[1] \"Covariates are standardised.\"\n",
      "[1] \"The data is now ready for your analysis!\"\n"
     ]
    }
   ],
   "source": [
    "########################  Partition the Samples  ########################\n",
    "set.seed(100239) # set starting value for random number generator\n",
    "\n",
    "# Partition Hold-Out-Sample\n",
    "df_part <- modelr::resample_partition(df, c(obs = 0.8, hold_out = 0.2))\n",
    "df_obs <- as.data.frame(df_part$obs) # Training and estimation sample\n",
    "df_hold_out <- as.data.frame(df_part$hold_out) # Hold-out-sample\n",
    "\n",
    "# Partition Samples for Cross-Fitting\n",
    "df_part <- modelr::resample_partition(df_obs, c(obs_A = 0.5, obs_B = 0.5))\n",
    "df_obs_A <- as.data.frame(df_part$obs_A) # Sample A\n",
    "df_obs_B <- as.data.frame(df_part$obs_B) # Sample B\n",
    "\n",
    "print('Samples are partitioned.')\n",
    "\n",
    "########################  Generate Variables  ########################\n",
    "\n",
    "# Outcome\n",
    "giving_hold_out <- as.matrix(df_hold_out[,1])\n",
    "giving_obs <- as.matrix(df_obs[,1])\n",
    "giving_obs_A <- as.matrix(df_obs_A[,1])\n",
    "giving_obs_B <- as.matrix(df_obs_B[,1])\n",
    "\n",
    "# Treatment\n",
    "treat_hold_out <- as.matrix(df_hold_out[,2])\n",
    "treat_obs <- as.matrix(df_obs[,2])\n",
    "treat_obs_A <- as.matrix(df_obs_A[,2])\n",
    "treat_obs_B <- as.matrix(df_obs_B[,2])\n",
    "\n",
    "# Covariates\n",
    "covariates_hold_out <- as.matrix(df_hold_out[,c(3:ncol(df_hold_out))])\n",
    "covariates_obs <- as.matrix(df_obs[,c(3:ncol(df_obs))])\n",
    "covariates_obs_A <- as.matrix(df_obs_A[,c(3:ncol(df_obs_A))])\n",
    "covariates_obs_B <- as.matrix(df_obs_B[,c(3:ncol(df_obs_B))])\n",
    "\n",
    "########################  Standardise Covariates  ########################\n",
    "\n",
    "preProcValues <- preProcess(covariates_obs, method = c(\"center\", \"scale\"))\n",
    "covariates_hold_out <- predict(preProcValues, covariates_hold_out) \n",
    "covariates_obs <- predict(preProcValues, covariates_obs) \n",
    "covariates_obs_A <- predict(preProcValues, covariates_obs_A) \n",
    "covariates_obs_B <- predict(preProcValues, covariates_obs_B) \n",
    "\n",
    "df_obs <- as.data.frame(cbind(giving_obs,treat_obs,covariates_obs))\n",
    "df_obs_A <- as.data.frame(cbind(giving_obs_A,treat_obs_A,covariates_obs_A))\n",
    "df_obs_B <- as.data.frame(cbind(giving_obs_B,treat_obs_B,covariates_obs_B))\n",
    "covariates_hold_out <- as.data.frame(covariates_hold_out)\n",
    "\n",
    "print('Covariates are standardised.')\n",
    "print('The data is now ready for your analysis!')\n",
    "\n",
    "###########################################################################"
   ]
  },
  {
   "cell_type": "markdown",
   "metadata": {},
   "source": [
    "# Nuisance Parameters"
   ]
  },
  {
   "cell_type": "markdown",
   "metadata": {},
   "source": [
    "We use generalised random forests (*grf-package*) to predict the outcome ([Athey, Tibshirani, Wager, 2018](https://arxiv.org/abs/1610.01271))."
   ]
  },
  {
   "cell_type": "markdown",
   "metadata": {},
   "source": [
    "## Potential Outcomes"
   ]
  },
  {
   "cell_type": "code",
   "execution_count": 6,
   "metadata": {},
   "outputs": [
    {
     "name": "stdout",
     "output_type": "stream",
     "text": [
      "[1] \"Potential outcomes are estimated\"\n"
     ]
    }
   ],
   "source": [
    "########################  Potential Outcomes  ######################## \n",
    "set.seed(100244)\n",
    "\n",
    "# Tuning parameters\n",
    "min_tree = 20\n",
    "# Number of trees is set to a very low value in order to increase the computational speed in this tutorial\n",
    "num_trees = 100 # Use at least 1,000 trees\n",
    "cov_frac = 1/3\n",
    "sample_part= 0.5\n",
    "\n",
    "# Build generalised random forest\n",
    "\n",
    "# Use Sample A to predict Sample B\n",
    "# Potential outcome under treatment\n",
    "f_y1_A <- regression_forest(covariates_obs_A[treat_obs_A == 1,], giving_obs_A[treat_obs_A == 1, ],\n",
    "                  sample.fraction = sample_part, mtry = floor(cov_frac*ncol(covariates_obs)), \n",
    "                  num.trees = num_trees, min.node.size = min_tree,\n",
    "                  honesty = TRUE, honesty.fraction = 0.5)\n",
    "y1hat_B <- as.matrix(predict(f_y1_A, covariates_obs_B)$predictions)\n",
    "y1hat_B_hold_out <- as.matrix(predict(f_y1_A, covariates_hold_out)$predictions)\n",
    "\n",
    "# Potential outcome under non-treatment\n",
    "f_y0_A <- regression_forest(covariates_obs_A[treat_obs_A == 0,], giving_obs_A[treat_obs_A == 0, ],\n",
    "                  sample.fraction = sample_part, mtry = floor(cov_frac*ncol(covariates_obs)), \n",
    "                  num.trees = num_trees, min.node.size = min_tree,\n",
    "                  honesty = TRUE, honesty.fraction = 0.5)\n",
    "y0hat_B <- as.matrix(predict(f_y0_A, covariates_obs_B)$predictions)\n",
    "y0hat_B_hold_out <- as.matrix(predict(f_y0_A, covariates_hold_out)$predictions)\n",
    "\n",
    "###########################################################################\n",
    "\n",
    "# Use Sample B to predict Sample A\n",
    "# Potential outcome under treatment\n",
    "f_y1_B <- regression_forest(covariates_obs_B[treat_obs_B == 1,], giving_obs_B[treat_obs_B == 1, ],\n",
    "                  sample.fraction = sample_part, mtry = floor(cov_frac*ncol(covariates_obs)), \n",
    "                  num.trees = num_trees, min.node.size = min_tree,\n",
    "                  honesty = TRUE, honesty.fraction = 0.5)\n",
    "y1hat_A <- as.matrix(predict(f_y1_B, covariates_obs_A)$predictions)\n",
    "y1hat_A_hold_out <- as.matrix(predict(f_y1_B, covariates_hold_out)$predictions)\n",
    "\n",
    "# Potential outcome under non-treatment\n",
    "f_y0_B <- regression_forest(covariates_obs_B[treat_obs_B == 0,], giving_obs_B[treat_obs_B == 0, ],\n",
    "                  sample.fraction = sample_part, mtry = floor(cov_frac*ncol(covariates_obs)), \n",
    "                  num.trees = num_trees, min.node.size = min_tree,\n",
    "                  honesty = TRUE, honesty.fraction = 0.5)\n",
    "y0hat_A <- as.matrix(predict(f_y0_B, covariates_obs_A)$predictions)\n",
    "y0hat_A_hold_out <- as.matrix(predict(f_y0_B, covariates_hold_out)$predictions)\n",
    "\n",
    "###########################################################################\n",
    "\n",
    "# Merge the fitted values from samples A and B\n",
    "y1hat <- rbind(y1hat_A,y1hat_B)\n",
    "y0hat <- rbind(y0hat_A,y0hat_B)\n",
    "\n",
    "y1hat_hold_out <- (y1hat_A_hold_out+y1hat_B_hold_out)/2\n",
    "y0hat_hold_out <- (y0hat_A_hold_out+y0hat_B_hold_out)/2\n",
    "\n",
    "print(\"Potential outcomes are estimated\")\n",
    "\n",
    "###########################################################################"
   ]
  },
  {
   "cell_type": "markdown",
   "metadata": {},
   "source": [
    "## Propensity Score"
   ]
  },
  {
   "cell_type": "code",
   "execution_count": 7,
   "metadata": {},
   "outputs": [
    {
     "name": "stdout",
     "output_type": "stream",
     "text": [
      "[1] \"Propensity scores are estimated\"\n"
     ]
    }
   ],
   "source": [
    "########################  Propensity Score  ######################## \n",
    "set.seed(100243)\n",
    "\n",
    "# Tuning parameters\n",
    "min_tree = 20\n",
    "num_trees = 100 # Use at least 1,000 trees\n",
    "cov_frac = 1/3\n",
    "sample_part= 0.5\n",
    "\n",
    "# Use Sample A to predict Sample B\n",
    "f_p_A <- regression_forest(covariates_obs_A, treat_obs_A,\n",
    "                  sample.fraction = sample_part, mtry = floor(cov_frac*ncol(covariates_obs)), \n",
    "                  num.trees = num_trees, min.node.size = min_tree,\n",
    "                  honesty = TRUE, honesty.fraction = 0.5)\n",
    "pscore_B <- as.matrix(predict(f_p_A, covariates_obs_B)$predictions)\n",
    "pscore_B_hold_out <- as.matrix(predict(f_p_A, covariates_hold_out)$predictions)\n",
    "\n",
    "# Use Sample B to predict Sample A\n",
    "f_p_B <- regression_forest(covariates_obs_B, treat_obs_B,\n",
    "                  sample.fraction = sample_part, mtry = floor(cov_frac*ncol(covariates_obs)), \n",
    "                  num.trees = num_trees, min.node.size = min_tree,\n",
    "                  honesty = TRUE, honesty.fraction = 0.5)\n",
    "pscore_A <- as.matrix(predict(f_p_B, covariates_obs_A)$predictions)\n",
    "pscore_A_hold_out <- as.matrix(predict(f_p_B, covariates_hold_out)$predictions)\n",
    "\n",
    "pscore <- rbind(pscore_A,pscore_B)\n",
    "pscore_hold_out <- (pscore_A_hold_out+pscore_B_hold_out)/2\n",
    "\n",
    "print(\"Propensity scores are estimated\")\n",
    "\n",
    "###########################################################################"
   ]
  },
  {
   "cell_type": "markdown",
   "metadata": {},
   "source": [
    "# Average Effects"
   ]
  },
  {
   "cell_type": "markdown",
   "metadata": {},
   "source": [
    "We use the double machine learning approach to estimate ATEs."
   ]
  },
  {
   "cell_type": "code",
   "execution_count": 8,
   "metadata": {},
   "outputs": [
    {
     "name": "stdout",
     "output_type": "stream",
     "text": [
      "[1] \"Average Treatment Effect (ATE): 4.4\"\n",
      "[1] \"Standard Error for ATE: 4.3\"\n"
     ]
    }
   ],
   "source": [
    "########################  Average Treatment Effects (ATE)  ########################\n",
    "\n",
    "# Merge samples A and B\n",
    "giving_obs <- rbind(giving_obs_A,giving_obs_B)\n",
    "treat_obs <- rbind(treat_obs_A,treat_obs_B)\n",
    "\n",
    "# Generate Modified Outcome\n",
    "Y_star = invisible(y1hat - y0hat + treat_obs*(giving_obs - y1hat)/pscore \n",
    "            - (1-treat_obs)*(giving_obs - y0hat)/(1-pscore))\n",
    "\n",
    "# Average Treatment Effect (ATE)\n",
    "ATE <- round(mean(Y_star), digits=1)\n",
    "print(paste0(\"Average Treatment Effect (ATE): \", ATE))\n",
    "\n",
    "# Standard error\n",
    "SD_ATE <- round(sqrt(var(Y_star)/length(Y_star)),digits=1)\n",
    "print(paste0(\"Standard Error for ATE: \", SD_ATE))\n",
    "\n",
    "####################################################################################"
   ]
  },
  {
   "cell_type": "markdown",
   "metadata": {},
   "source": [
    "# Optimal Policy Learning Using Shallow Trees"
   ]
  },
  {
   "cell_type": "markdown",
   "metadata": {},
   "source": [
    "We estimate individualised treatment rules (ITR) using the approach proposed in [Athey and Wager (2021)](https://www.econometricsociety.org/publications/econometrica/2021/01/01/policy-learning-observational-data)."
   ]
  },
  {
   "cell_type": "code",
   "execution_count": 9,
   "metadata": {},
   "outputs": [
    {
     "data": {
      "image/png": "[encoded data removed]",
      "text/plain": [
       "plot without title"
      ]
     },
     "metadata": {},
     "output_type": "display_data"
    }
   ],
   "source": [
    "########################  Individualised Treatment Rules  ########################                         \n",
    "\n",
    "set.seed(1234567)\n",
    "\n",
    "# Define transformed Variables\n",
    "sign = sign(Y_star)\n",
    "lambda = abs(Y_star)\n",
    "Z <- factor(sign, labels = c(\"Don't\", \"Treat\"))\n",
    "df_obs <- rbind(df_obs_A,df_obs_B)\n",
    "\n",
    "# Genrate linear fromular for tree\n",
    "sumx <- paste(covariates, collapse = \" + \")  \n",
    "linear <- paste(\"Z\",paste(sumx, sep=\" + \"), sep=\" ~ \")\n",
    "linear <- as.formula(linear)\n",
    "\n",
    "########################  Build a Shallow Tree  ########################                         \n",
    "\n",
    "# Tree \n",
    "tree_1 <- rpart(formula = linear, # Predict sign of treatment\n",
    "                data = df_obs,\n",
    "                weights = lambda,  # Larger absolute effect -> Higher weight\n",
    "                method = \"class\",\n",
    "                control = rpart.control(cp = 2.00e-10,maxdepth = 3, minbucket=10))\n",
    "\n",
    "# Plot MSE in CV-Sample\n",
    "rpart.plot(tree_1,digits=3)\n",
    "\n",
    "# Predict policy rule to hold-out-sample\n",
    "pi_tree1_hold_out = as.matrix(predict(tree_1, newdata=covariates_hold_out))\n",
    "\n",
    "####################################################################################"
   ]
  },
  {
   "cell_type": "markdown",
   "metadata": {},
   "source": [
    "##  Build Deeper Trees"
   ]
  },
  {
   "cell_type": "code",
   "execution_count": 10,
   "metadata": {},
   "outputs": [
    {
     "name": "stdout",
     "output_type": "stream",
     "text": [
      "[1] \"Optimal number of splits: 54\"\n"
     ]
    },
    {
     "data": {
      "image/png": "[encoded data removed]",
      "text/plain": [
       "plot without title"
      ]
     },
     "metadata": {},
     "output_type": "display_data"
    },
    {
     "data": {
      "image/png": "[encoded data removed]",
      "text/plain": [
       "Plot with title \"Pruned Tree\""
      ]
     },
     "metadata": {},
     "output_type": "display_data"
    }
   ],
   "source": [
    "#############################  Build Trees Deeper Tree  #################################                         \n",
    "## Note: Asymptotic results hold only for trees with little complexity\n",
    "set.seed(1234567)\n",
    "#set.seed(100235)\n",
    "\n",
    "# Tree \n",
    "tree_2 <- rpart(formula = linear, # Predict sign of treatment\n",
    "                data = df_obs,\n",
    "                weights = lambda,  # Larger effect --> Higher weight\n",
    "                method = \"class\",\n",
    "                control = rpart.control(cp = 2.00e-10, minbucket=10))\n",
    "\n",
    "# Find optimal tree sizes\n",
    "op.index_2 <- which.min(tree_2$cptable[, \"xerror\"])\n",
    "print(paste0(\"Optimal number of splits: \", op.index_2))\n",
    "\n",
    "# Plot CV-Error \n",
    "plotcp(tree_2, minline = TRUE)\n",
    "abline(v = op.index_2, lty = \"dashed\")\n",
    "\n",
    "########################  Select the Tree that Minimises CV-MSE  ######################## \n",
    "\n",
    "# Get cp-value that corresponds to optimal tree sizes\n",
    "cp.vals_2 <- tree_2$cptable[op.index_2, \"CP\"]\n",
    "\n",
    "# Prune the trees\n",
    "prune_tree_2 <- prune(tree_2, cp = cp.vals_2)\n",
    "\n",
    "# Plot pruned tree \n",
    "rpart.plot(prune_tree_2,digits=3, main = \"Pruned Tree\")\n",
    "\n",
    "# Predict policy rule to hold-out-sample\n",
    "pi_tree2_hold_out = as.matrix(predict(tree_2, newdata=covariates_hold_out))\n",
    "\n",
    "#########################################################################################"
   ]
  },
  {
   "cell_type": "markdown",
   "metadata": {},
   "source": [
    "# Out-of-Sample Comparison"
   ]
  },
  {
   "cell_type": "markdown",
   "metadata": {},
   "source": [
    "Now we go to the hold-out sample to assess the performance of the individualised treatment rules."
   ]
  },
  {
   "cell_type": "code",
   "execution_count": 11,
   "metadata": {
    "scrolled": true
   },
   "outputs": [
    {
     "name": "stdout",
     "output_type": "stream",
     "text": [
      "[1] \"Descriptives of Policy Rules\"\n",
      "               Mean nobs\n",
      "rule_tree_1 0.00195 4625\n",
      "rule_tree_2 0.52260 4625\n",
      "[1] \"Correlation between the Policy Rules\"\n",
      "            rule_tree_1 rule_tree_2\n",
      "rule_tree_1  1.00000000  0.04220361\n",
      "rule_tree_2  0.04220361  1.00000000\n"
     ]
    }
   ],
   "source": [
    "########################  Share of Treated  ######################## \n",
    "\n",
    "# Rule based on shallow tree (ITR1)\n",
    "rule_tree_1 <- as.numeric(pi_tree1_hold_out[,1]> .5)\n",
    "# Rule based on deeper tree (ITR2)\n",
    "rule_tree_2 <- as.numeric(pi_tree2_hold_out[,1] > .5)\n",
    "                  \n",
    "print('Descriptives of Policy Rules')\n",
    "desc <- fBasics::basicStats(cbind(rule_tree_1,rule_tree_2)) %>% t() %>% as.data.frame() %>% \n",
    "  select(Mean, nobs)\n",
    "print(round(desc, digits=5))\n",
    "\n",
    "print('Correlation between the Policy Rules')\n",
    "corr = cor(cbind(rule_tree_1,rule_tree_2))\n",
    "print(corr)\n",
    "\n",
    "#####################################################################"
   ]
  },
  {
   "cell_type": "markdown",
   "metadata": {},
   "source": [
    "## Average Givings Under Policy Rule"
   ]
  },
  {
   "cell_type": "code",
   "execution_count": 12,
   "metadata": {},
   "outputs": [
    {
     "name": "stdout",
     "output_type": "stream",
     "text": [
      "[1] \"Average Givings Under\"\n",
      "[1] \"Shallow Tree: 15.83\"\n",
      "[1] \"Pruned Tree: 16.62\"\n"
     ]
    }
   ],
   "source": [
    "########################  Average Giving Under Policy Rule  ######################## \n",
    "\n",
    "# Generate Modified Outcome\n",
    "y_1_hold_out = invisible(y1hat_hold_out + treat_hold_out*(giving_hold_out - y1hat_hold_out)/pscore_hold_out)\n",
    "y_0_hold_out = invisible(y0hat_hold_out + (1-treat_hold_out)*(giving_hold_out - y0hat_hold_out)/(1-pscore_hold_out))\n",
    "\n",
    "# Calulate expected average giving under the different policy rules \n",
    "O_tree_1 <- round(mean(rule_tree_1*y_1_hold_out  + (1-rule_tree_1)*y_0_hold_out), digits = 2)\n",
    "O_tree_2 <- round(mean(rule_tree_2*y_1_hold_out  + (1-rule_tree_2)*y_0_hold_out), digits = 2)\n",
    "\n",
    "print('Average Givings Under')\n",
    "print(paste0(\"Shallow Tree: \",O_tree_1))\n",
    "print(paste0(\"Pruned Tree: \",O_tree_2))\n",
    "\n",
    "#####################################################################################"
   ]
  },
  {
   "cell_type": "markdown",
   "metadata": {},
   "source": [
    "## Policy Value Compared to Everybody is Treated"
   ]
  },
  {
   "cell_type": "code",
   "execution_count": 19,
   "metadata": {},
   "outputs": [
    {
     "name": "stdout",
     "output_type": "stream",
     "text": [
      "[1] \"Total Policy Value Compared to Everybody is Treated\"\n",
      "[1] \"Average Gain of Pruned Tree: 1.27\"\n",
      "[1] \"Standard Error: 4.28\"\n"
     ]
    }
   ],
   "source": [
    "########################  Policy Value Compared to Everybody is Treated  ######################## \n",
    "\n",
    "#Modified Outcome\n",
    "Y_star_hold_out = y_1_hold_out - y_0_hold_out\n",
    "\n",
    "# Estimate Policy Value\n",
    "tree_all <- round(mean((rule_tree_2-1)*Y_star_hold_out), digits = 2)\n",
    "se_tree_all <- round(sqrt(var((rule_tree_2-1)*Y_star_hold_out)/length(Y_star_hold_out)), digits = 2)\n",
    "\n",
    "print('Total Policy Value Compared to Everybody is Treated')\n",
    "print(paste0(\"Average Gain of Pruned Tree: \", tree_all))\n",
    "print(paste0(\"Standard Error: \", se_tree_all))\n",
    "\n",
    "#round(mean(giving_hold_out[treat_hold_out==1,]), digits = 2)\n",
    "#round(mean((rule_tree_2-1)*Y_star_hold_out)/mean(giving_hold_out[treat_hold_out==1,]), digits = 2)\n",
    "\n",
    "################################################################################################"
   ]
  },
  {
   "cell_type": "markdown",
   "metadata": {},
   "source": [
    "## Policy Value Compared to Nobody is Treated"
   ]
  },
  {
   "cell_type": "code",
   "execution_count": 18,
   "metadata": {},
   "outputs": [
    {
     "name": "stdout",
     "output_type": "stream",
     "text": [
      "[1] \"Total Policy Value Compared to Nobody is Treated\"\n",
      "[1] \"Average Gain of Pruned Tree: 0.55\"\n",
      "[1] \"Standard Error: 1.55\"\n"
     ]
    }
   ],
   "source": [
    "########################  Policy Value Compared to Nobody is Treated  ######################## \n",
    "\n",
    "# Estimate Policy Value\n",
    "tree_no <- round(mean(rule_tree_2*Y_star_hold_out), digits = 2)\n",
    "se_tree_no <- round(sqrt(var(rule_tree_2*Y_star_hold_out)/length(Y_star_hold_out)), digits = 2)\n",
    "\n",
    "print('Total Policy Value Compared to Nobody is Treated')\n",
    "print(paste0(\"Average Gain of Pruned Tree: \", tree_no))\n",
    "print(paste0(\"Standard Error: \", se_tree_no))\n",
    "\n",
    "#round(mean(giving_hold_out[treat_hold_out==0,]), digits = 2)\n",
    "#round(mean(rule_tree_2*Y_star_hold_out)/mean(giving_hold_out[treat_hold_out==0,]), digits = 2)\n",
    "\n",
    "################################################################################################"
   ]
  },
  {
   "cell_type": "markdown",
   "metadata": {},
   "source": [
    "## Policy Value Compared to Random Assignment"
   ]
  },
  {
   "cell_type": "code",
   "execution_count": 17,
   "metadata": {},
   "outputs": [
    {
     "name": "stdout",
     "output_type": "stream",
     "text": [
      "[1] \"Total Policy Value Compared to Random Assignment\"\n",
      "[1] \"Average Gain of Pruned Tree: 0.91\"\n",
      "[1] \"Standard Error: 2.28\"\n"
     ]
    }
   ],
   "source": [
    "########################  Policy Value Compared to Random Assignment  ######################## \n",
    "\n",
    "# Estimate Policy Value\n",
    "R1_tree_2 <- round(1/2*mean((2*rule_tree_2-1)*Y_star_hold_out), digits = 2)\n",
    "se_tree_2 <- round(sqrt(1/4*var((2*rule_tree_2-1)*Y_star_hold_out)/length(Y_star_hold_out)), digits = 2)\n",
    "\n",
    "\n",
    "print('Total Policy Value Compared to Random Assignment')\n",
    "print(paste0(\"Average Gain of Pruned Tree: \", R1_tree_2))\n",
    "print(paste0(\"Standard Error: \", se_tree_2))\n",
    "\n",
    "#round((mean(giving_hold_out[treat_hold_out==1,])+mean(giving_hold_out[treat_hold_out==0,]))/2, digits = 2)\n",
    "#round(1/2*mean((2*rule_tree_2-1)*Y_star_hold_out)/(mean(giving_hold_out[treat_hold_out==1,])+\n",
    "#                                                   mean(giving_hold_out[treat_hold_out==0,]))/2, digits = 2)\n",
    "\n",
    "################################################################################################"
   ]
  },
  {
   "cell_type": "code",
   "execution_count": null,
   "metadata": {},
   "outputs": [],
   "source": []
  }
 ],
 "metadata": {
  "kernelspec": {
   "display_name": "R",
   "language": "R",
   "name": "ir"
  },
  "language_info": {
   "codemirror_mode": "r",
   "file_extension": ".r",
   "mimetype": "text/x-r-source",
   "name": "R",
   "pygments_lexer": "r",
   "version": "3.6.1"
  }
 },
 "nbformat": 4,
 "nbformat_minor": 2
}
